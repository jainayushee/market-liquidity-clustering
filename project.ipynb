{
 "cells": [
  {
   "cell_type": "code",
   "execution_count": 192,
   "metadata": {},
   "outputs": [
    {
     "data": {
      "text/html": [
       "<div>\n",
       "<style scoped>\n",
       "    .dataframe tbody tr th:only-of-type {\n",
       "        vertical-align: middle;\n",
       "    }\n",
       "\n",
       "    .dataframe tbody tr th {\n",
       "        vertical-align: top;\n",
       "    }\n",
       "\n",
       "    .dataframe thead th {\n",
       "        text-align: right;\n",
       "    }\n",
       "</style>\n",
       "<table border=\"1\" class=\"dataframe\">\n",
       "  <thead>\n",
       "    <tr style=\"text-align: right;\">\n",
       "      <th></th>\n",
       "      <th>Issuer Name</th>\n",
       "      <th>Amt Issued</th>\n",
       "      <th>Issue Date</th>\n",
       "      <th>Maturity</th>\n",
       "      <th>Moody Rtg</th>\n",
       "      <th>S&amp;P Rating</th>\n",
       "      <th>Currency</th>\n",
       "      <th>ISIN</th>\n",
       "      <th>Yld to Mty (Mid)</th>\n",
       "      <th>Yield at Issue</th>\n",
       "      <th>Cpn</th>\n",
       "      <th>Moody's Rating Outlook</th>\n",
       "      <th>S&amp;P Outlook</th>\n",
       "      <th>LQA Bid-Ask Spread</th>\n",
       "      <th>Market Cap</th>\n",
       "    </tr>\n",
       "  </thead>\n",
       "  <tbody>\n",
       "    <tr>\n",
       "      <th>0</th>\n",
       "      <td>UBS Group AG</td>\n",
       "      <td>1.636152e+09</td>\n",
       "      <td>11/13/2023</td>\n",
       "      <td>#N/A Field Not Applicable</td>\n",
       "      <td>Baa3</td>\n",
       "      <td>BB</td>\n",
       "      <td>USD</td>\n",
       "      <td>USH42097ES26</td>\n",
       "      <td>8.877085</td>\n",
       "      <td>NaN</td>\n",
       "      <td>9.25</td>\n",
       "      <td>POS</td>\n",
       "      <td>NEG</td>\n",
       "      <td>0.292751</td>\n",
       "      <td>80112709880</td>\n",
       "    </tr>\n",
       "    <tr>\n",
       "      <th>1</th>\n",
       "      <td>UBS Group AG</td>\n",
       "      <td>1.636152e+09</td>\n",
       "      <td>11/13/2023</td>\n",
       "      <td>#N/A Field Not Applicable</td>\n",
       "      <td>Baa3</td>\n",
       "      <td>BB</td>\n",
       "      <td>USD</td>\n",
       "      <td>USH42097ER43</td>\n",
       "      <td>8.733408</td>\n",
       "      <td>4.492</td>\n",
       "      <td>9.25</td>\n",
       "      <td>POS</td>\n",
       "      <td>NEG</td>\n",
       "      <td>0.299266</td>\n",
       "      <td>80112709880</td>\n",
       "    </tr>\n",
       "    <tr>\n",
       "      <th>2</th>\n",
       "      <td>UBS Group AG</td>\n",
       "      <td>1.636152e+09</td>\n",
       "      <td>11/13/2023</td>\n",
       "      <td>#N/A Field Not Applicable</td>\n",
       "      <td>Baa3</td>\n",
       "      <td>BB</td>\n",
       "      <td>USD</td>\n",
       "      <td>US902613BF40</td>\n",
       "      <td>8.847124</td>\n",
       "      <td>NaN</td>\n",
       "      <td>9.25</td>\n",
       "      <td>POS</td>\n",
       "      <td>NEG</td>\n",
       "      <td>0.292751</td>\n",
       "      <td>80112709880</td>\n",
       "    </tr>\n",
       "    <tr>\n",
       "      <th>3</th>\n",
       "      <td>UBS Group AG</td>\n",
       "      <td>1.636152e+09</td>\n",
       "      <td>11/13/2023</td>\n",
       "      <td>#N/A Field Not Applicable</td>\n",
       "      <td>Baa3</td>\n",
       "      <td>BB</td>\n",
       "      <td>USD</td>\n",
       "      <td>US902613BE74</td>\n",
       "      <td>8.75293</td>\n",
       "      <td>NaN</td>\n",
       "      <td>9.25</td>\n",
       "      <td>POS</td>\n",
       "      <td>NEG</td>\n",
       "      <td>0.299266</td>\n",
       "      <td>80112709880</td>\n",
       "    </tr>\n",
       "    <tr>\n",
       "      <th>4</th>\n",
       "      <td>Danske Bank A/S</td>\n",
       "      <td>5.000000e+08</td>\n",
       "      <td>11/9/2023</td>\n",
       "      <td>11/9/2028</td>\n",
       "      <td>Baa2</td>\n",
       "      <td>BBB+</td>\n",
       "      <td>EUR</td>\n",
       "      <td>XS2715918020</td>\n",
       "      <td>4.548486</td>\n",
       "      <td>NaN</td>\n",
       "      <td>4.50</td>\n",
       "      <td>POS</td>\n",
       "      <td>STABLE</td>\n",
       "      <td>0.036886</td>\n",
       "      <td>150968527130</td>\n",
       "    </tr>\n",
       "  </tbody>\n",
       "</table>\n",
       "</div>"
      ],
      "text/plain": [
       "       Issuer Name    Amt Issued  Issue Date                   Maturity  \\\n",
       "0     UBS Group AG  1.636152e+09  11/13/2023  #N/A Field Not Applicable   \n",
       "1     UBS Group AG  1.636152e+09  11/13/2023  #N/A Field Not Applicable   \n",
       "2     UBS Group AG  1.636152e+09  11/13/2023  #N/A Field Not Applicable   \n",
       "3     UBS Group AG  1.636152e+09  11/13/2023  #N/A Field Not Applicable   \n",
       "4  Danske Bank A/S  5.000000e+08   11/9/2023                  11/9/2028   \n",
       "\n",
       "  Moody Rtg S&P Rating Currency          ISIN Yld to Mty (Mid)  \\\n",
       "0      Baa3         BB      USD  USH42097ES26         8.877085   \n",
       "1      Baa3         BB      USD  USH42097ER43         8.733408   \n",
       "2      Baa3         BB      USD  US902613BF40         8.847124   \n",
       "3      Baa3         BB      USD  US902613BE74          8.75293   \n",
       "4      Baa2       BBB+      EUR  XS2715918020         4.548486   \n",
       "\n",
       "   Yield at Issue   Cpn Moody's Rating Outlook S&P Outlook  \\\n",
       "0             NaN  9.25                    POS         NEG   \n",
       "1           4.492  9.25                    POS         NEG   \n",
       "2             NaN  9.25                    POS         NEG   \n",
       "3             NaN  9.25                    POS         NEG   \n",
       "4             NaN  4.50                    POS      STABLE   \n",
       "\n",
       "   LQA Bid-Ask Spread    Market Cap  \n",
       "0            0.292751   80112709880  \n",
       "1            0.299266   80112709880  \n",
       "2            0.292751   80112709880  \n",
       "3            0.299266   80112709880  \n",
       "4            0.036886  150968527130  "
      ]
     },
     "execution_count": 192,
     "metadata": {},
     "output_type": "execute_result"
    }
   ],
   "source": [
    "import pandas as pd\n",
    "from matplotlib import pyplot as plt\n",
    "import seaborn as sns\n",
    "\n",
    "df = pd.read_excel(\"LAST-NASIM.xlsx\")\n",
    "df.head()"
   ]
  },
  {
   "cell_type": "code",
   "execution_count": 193,
   "metadata": {},
   "outputs": [
    {
     "data": {
      "text/plain": [
       "Issuer Name                 0\n",
       "Amt Issued                  6\n",
       "Issue Date                  0\n",
       "Maturity                    0\n",
       "Moody Rtg                 111\n",
       "S&P Rating                238\n",
       "Currency                    0\n",
       "ISIN                        0\n",
       "Yld to Mty (Mid)            0\n",
       "Yield at Issue            522\n",
       "Cpn                        10\n",
       "Moody's Rating Outlook     87\n",
       "S&P Outlook               110\n",
       "LQA Bid-Ask Spread         49\n",
       "Market Cap                210\n",
       "dtype: int64"
      ]
     },
     "execution_count": 193,
     "metadata": {},
     "output_type": "execute_result"
    }
   ],
   "source": [
    "df.isnull().sum()"
   ]
  },
  {
   "cell_type": "code",
   "execution_count": 194,
   "metadata": {},
   "outputs": [
    {
     "data": {
      "text/html": [
       "<div>\n",
       "<style scoped>\n",
       "    .dataframe tbody tr th:only-of-type {\n",
       "        vertical-align: middle;\n",
       "    }\n",
       "\n",
       "    .dataframe tbody tr th {\n",
       "        vertical-align: top;\n",
       "    }\n",
       "\n",
       "    .dataframe thead th {\n",
       "        text-align: right;\n",
       "    }\n",
       "</style>\n",
       "<table border=\"1\" class=\"dataframe\">\n",
       "  <thead>\n",
       "    <tr style=\"text-align: right;\">\n",
       "      <th></th>\n",
       "      <th>Yld to Mty (Mid)</th>\n",
       "      <th>S&amp;P Outlook</th>\n",
       "      <th>LQA Bid-Ask Spread</th>\n",
       "    </tr>\n",
       "  </thead>\n",
       "  <tbody>\n",
       "    <tr>\n",
       "      <th>0</th>\n",
       "      <td>8.877085</td>\n",
       "      <td>NEG</td>\n",
       "      <td>0.292751</td>\n",
       "    </tr>\n",
       "    <tr>\n",
       "      <th>1</th>\n",
       "      <td>8.733408</td>\n",
       "      <td>NEG</td>\n",
       "      <td>0.299266</td>\n",
       "    </tr>\n",
       "    <tr>\n",
       "      <th>2</th>\n",
       "      <td>8.847124</td>\n",
       "      <td>NEG</td>\n",
       "      <td>0.292751</td>\n",
       "    </tr>\n",
       "    <tr>\n",
       "      <th>3</th>\n",
       "      <td>8.75293</td>\n",
       "      <td>NEG</td>\n",
       "      <td>0.299266</td>\n",
       "    </tr>\n",
       "    <tr>\n",
       "      <th>4</th>\n",
       "      <td>4.548486</td>\n",
       "      <td>STABLE</td>\n",
       "      <td>0.036886</td>\n",
       "    </tr>\n",
       "    <tr>\n",
       "      <th>...</th>\n",
       "      <td>...</td>\n",
       "      <td>...</td>\n",
       "      <td>...</td>\n",
       "    </tr>\n",
       "    <tr>\n",
       "      <th>1066</th>\n",
       "      <td>4.748089</td>\n",
       "      <td>STABLE</td>\n",
       "      <td>0.181440</td>\n",
       "    </tr>\n",
       "    <tr>\n",
       "      <th>1067</th>\n",
       "      <td>3.480667</td>\n",
       "      <td>STABLE</td>\n",
       "      <td>0.435898</td>\n",
       "    </tr>\n",
       "    <tr>\n",
       "      <th>1070</th>\n",
       "      <td>4.452537</td>\n",
       "      <td>NEG</td>\n",
       "      <td>0.297163</td>\n",
       "    </tr>\n",
       "    <tr>\n",
       "      <th>1074</th>\n",
       "      <td>6.408678</td>\n",
       "      <td>STABLE</td>\n",
       "      <td>0.387451</td>\n",
       "    </tr>\n",
       "    <tr>\n",
       "      <th>1077</th>\n",
       "      <td>5.451126</td>\n",
       "      <td>STABLE</td>\n",
       "      <td>0.941553</td>\n",
       "    </tr>\n",
       "  </tbody>\n",
       "</table>\n",
       "<p>922 rows × 3 columns</p>\n",
       "</div>"
      ],
      "text/plain": [
       "     Yld to Mty (Mid) S&P Outlook  LQA Bid-Ask Spread\n",
       "0            8.877085         NEG            0.292751\n",
       "1            8.733408         NEG            0.299266\n",
       "2            8.847124         NEG            0.292751\n",
       "3             8.75293         NEG            0.299266\n",
       "4            4.548486      STABLE            0.036886\n",
       "...               ...         ...                 ...\n",
       "1066         4.748089      STABLE            0.181440\n",
       "1067         3.480667      STABLE            0.435898\n",
       "1070         4.452537         NEG            0.297163\n",
       "1074         6.408678      STABLE            0.387451\n",
       "1077         5.451126      STABLE            0.941553\n",
       "\n",
       "[922 rows x 3 columns]"
      ]
     },
     "execution_count": 194,
     "metadata": {},
     "output_type": "execute_result"
    }
   ],
   "source": [
    "df_new = df.loc[:,[\"Yld to Mty (Mid)\",\"S&P Outlook\",\"LQA Bid-Ask Spread\"]]\n",
    "df_cleaned = df_new.dropna()\n",
    "df_cleaned"
   ]
  },
  {
   "cell_type": "code",
   "execution_count": 196,
   "metadata": {},
   "outputs": [
    {
     "name": "stderr",
     "output_type": "stream",
     "text": [
      "C:\\Users\\Ayushee\\AppData\\Local\\Temp\\ipykernel_25088\\627793461.py:3: UserWarning: Boolean Series key will be reindexed to match DataFrame index.\n",
      "  df_cleaned = df_cleaned[df[\"Yld to Mty (Mid)\"] != \"#N/A Field Not Applicable\"]\n",
      "C:\\Users\\Ayushee\\AppData\\Local\\Temp\\ipykernel_25088\\627793461.py:6: SettingWithCopyWarning: \n",
      "A value is trying to be set on a copy of a slice from a DataFrame.\n",
      "Try using .loc[row_indexer,col_indexer] = value instead\n",
      "\n",
      "See the caveats in the documentation: https://pandas.pydata.org/pandas-docs/stable/user_guide/indexing.html#returning-a-view-versus-a-copy\n",
      "  df_cleaned['S&P Outlook'] = df_cleaned['S&P Outlook'].map(rating_mapping)\n"
     ]
    },
    {
     "data": {
      "text/html": [
       "<div>\n",
       "<style scoped>\n",
       "    .dataframe tbody tr th:only-of-type {\n",
       "        vertical-align: middle;\n",
       "    }\n",
       "\n",
       "    .dataframe tbody tr th {\n",
       "        vertical-align: top;\n",
       "    }\n",
       "\n",
       "    .dataframe thead th {\n",
       "        text-align: right;\n",
       "    }\n",
       "</style>\n",
       "<table border=\"1\" class=\"dataframe\">\n",
       "  <thead>\n",
       "    <tr style=\"text-align: right;\">\n",
       "      <th></th>\n",
       "      <th>Yld to Mty (Mid)</th>\n",
       "      <th>S&amp;P Outlook</th>\n",
       "      <th>LQA Bid-Ask Spread</th>\n",
       "    </tr>\n",
       "  </thead>\n",
       "  <tbody>\n",
       "    <tr>\n",
       "      <th>0</th>\n",
       "      <td>8.877085</td>\n",
       "      <td>-1</td>\n",
       "      <td>0.292751</td>\n",
       "    </tr>\n",
       "    <tr>\n",
       "      <th>1</th>\n",
       "      <td>8.733408</td>\n",
       "      <td>-1</td>\n",
       "      <td>0.299266</td>\n",
       "    </tr>\n",
       "    <tr>\n",
       "      <th>2</th>\n",
       "      <td>8.847124</td>\n",
       "      <td>-1</td>\n",
       "      <td>0.292751</td>\n",
       "    </tr>\n",
       "    <tr>\n",
       "      <th>3</th>\n",
       "      <td>8.75293</td>\n",
       "      <td>-1</td>\n",
       "      <td>0.299266</td>\n",
       "    </tr>\n",
       "    <tr>\n",
       "      <th>4</th>\n",
       "      <td>4.548486</td>\n",
       "      <td>0</td>\n",
       "      <td>0.036886</td>\n",
       "    </tr>\n",
       "    <tr>\n",
       "      <th>...</th>\n",
       "      <td>...</td>\n",
       "      <td>...</td>\n",
       "      <td>...</td>\n",
       "    </tr>\n",
       "    <tr>\n",
       "      <th>1066</th>\n",
       "      <td>4.748089</td>\n",
       "      <td>0</td>\n",
       "      <td>0.181440</td>\n",
       "    </tr>\n",
       "    <tr>\n",
       "      <th>1067</th>\n",
       "      <td>3.480667</td>\n",
       "      <td>0</td>\n",
       "      <td>0.435898</td>\n",
       "    </tr>\n",
       "    <tr>\n",
       "      <th>1070</th>\n",
       "      <td>4.452537</td>\n",
       "      <td>-1</td>\n",
       "      <td>0.297163</td>\n",
       "    </tr>\n",
       "    <tr>\n",
       "      <th>1074</th>\n",
       "      <td>6.408678</td>\n",
       "      <td>0</td>\n",
       "      <td>0.387451</td>\n",
       "    </tr>\n",
       "    <tr>\n",
       "      <th>1077</th>\n",
       "      <td>5.451126</td>\n",
       "      <td>0</td>\n",
       "      <td>0.941553</td>\n",
       "    </tr>\n",
       "  </tbody>\n",
       "</table>\n",
       "<p>914 rows × 3 columns</p>\n",
       "</div>"
      ],
      "text/plain": [
       "     Yld to Mty (Mid)  S&P Outlook  LQA Bid-Ask Spread\n",
       "0            8.877085           -1            0.292751\n",
       "1            8.733408           -1            0.299266\n",
       "2            8.847124           -1            0.292751\n",
       "3             8.75293           -1            0.299266\n",
       "4            4.548486            0            0.036886\n",
       "...               ...          ...                 ...\n",
       "1066         4.748089            0            0.181440\n",
       "1067         3.480667            0            0.435898\n",
       "1070         4.452537           -1            0.297163\n",
       "1074         6.408678            0            0.387451\n",
       "1077         5.451126            0            0.941553\n",
       "\n",
       "[914 rows x 3 columns]"
      ]
     },
     "execution_count": 196,
     "metadata": {},
     "output_type": "execute_result"
    }
   ],
   "source": [
    "# df_cleaned = df_cleaned[df[\"Market Cap\"] != \"#N/A Field Not Applicable\"]\n",
    "# # df_cleaned = df_cleaned[df[\"LQA Expected Daily Vol\"] != \"#N/A Field Not Applicable\"]\n",
    "df_cleaned = df_cleaned[df[\"Yld to Mty (Mid)\"] != \"#N/A Field Not Applicable\"]\n",
    "\n",
    "rating_mapping = {'NEG': -1, 'POS': 1, 'STABLE': 0}\n",
    "df_cleaned['S&P Outlook'] = df_cleaned['S&P Outlook'].map(rating_mapping)\n",
    "df_cleaned"
   ]
  },
  {
   "cell_type": "code",
   "execution_count": 175,
   "metadata": {},
   "outputs": [
    {
     "ename": "KeyError",
     "evalue": "'Market Cap'",
     "output_type": "error",
     "traceback": [
      "\u001b[1;31m---------------------------------------------------------------------------\u001b[0m",
      "\u001b[1;31mKeyError\u001b[0m                                  Traceback (most recent call last)",
      "File \u001b[1;32mc:\\Users\\Ayushee\\AppData\\Local\\Programs\\Python\\Python311\\Lib\\site-packages\\pandas\\core\\indexes\\base.py:3653\u001b[0m, in \u001b[0;36mIndex.get_loc\u001b[1;34m(self, key)\u001b[0m\n\u001b[0;32m   3652\u001b[0m \u001b[39mtry\u001b[39;00m:\n\u001b[1;32m-> 3653\u001b[0m     \u001b[39mreturn\u001b[39;00m \u001b[39mself\u001b[39;49m\u001b[39m.\u001b[39;49m_engine\u001b[39m.\u001b[39;49mget_loc(casted_key)\n\u001b[0;32m   3654\u001b[0m \u001b[39mexcept\u001b[39;00m \u001b[39mKeyError\u001b[39;00m \u001b[39mas\u001b[39;00m err:\n",
      "File \u001b[1;32mc:\\Users\\Ayushee\\AppData\\Local\\Programs\\Python\\Python311\\Lib\\site-packages\\pandas\\_libs\\index.pyx:147\u001b[0m, in \u001b[0;36mpandas._libs.index.IndexEngine.get_loc\u001b[1;34m()\u001b[0m\n",
      "File \u001b[1;32mc:\\Users\\Ayushee\\AppData\\Local\\Programs\\Python\\Python311\\Lib\\site-packages\\pandas\\_libs\\index.pyx:176\u001b[0m, in \u001b[0;36mpandas._libs.index.IndexEngine.get_loc\u001b[1;34m()\u001b[0m\n",
      "File \u001b[1;32mpandas\\_libs\\hashtable_class_helper.pxi:7080\u001b[0m, in \u001b[0;36mpandas._libs.hashtable.PyObjectHashTable.get_item\u001b[1;34m()\u001b[0m\n",
      "File \u001b[1;32mpandas\\_libs\\hashtable_class_helper.pxi:7088\u001b[0m, in \u001b[0;36mpandas._libs.hashtable.PyObjectHashTable.get_item\u001b[1;34m()\u001b[0m\n",
      "\u001b[1;31mKeyError\u001b[0m: 'Market Cap'",
      "\nThe above exception was the direct cause of the following exception:\n",
      "\u001b[1;31mKeyError\u001b[0m                                  Traceback (most recent call last)",
      "\u001b[1;32md:\\Language of Business\\Project\\project.ipynb Cell 5\u001b[0m line \u001b[0;36m1\n\u001b[1;32m----> <a href='vscode-notebook-cell:/d%3A/Language%20of%20Business/Project/project.ipynb#X26sZmlsZQ%3D%3D?line=0'>1</a>\u001b[0m df_cleaned[df_cleaned[\u001b[39m\"\u001b[39;49m\u001b[39mMarket Cap\u001b[39;49m\u001b[39m\"\u001b[39;49m] \u001b[39m==\u001b[39m df_cleaned[\u001b[39m\"\u001b[39m\u001b[39mMarket Cap\u001b[39m\u001b[39m\"\u001b[39m]\u001b[39m.\u001b[39mmax()]\n",
      "File \u001b[1;32mc:\\Users\\Ayushee\\AppData\\Local\\Programs\\Python\\Python311\\Lib\\site-packages\\pandas\\core\\frame.py:3761\u001b[0m, in \u001b[0;36mDataFrame.__getitem__\u001b[1;34m(self, key)\u001b[0m\n\u001b[0;32m   3759\u001b[0m \u001b[39mif\u001b[39;00m \u001b[39mself\u001b[39m\u001b[39m.\u001b[39mcolumns\u001b[39m.\u001b[39mnlevels \u001b[39m>\u001b[39m \u001b[39m1\u001b[39m:\n\u001b[0;32m   3760\u001b[0m     \u001b[39mreturn\u001b[39;00m \u001b[39mself\u001b[39m\u001b[39m.\u001b[39m_getitem_multilevel(key)\n\u001b[1;32m-> 3761\u001b[0m indexer \u001b[39m=\u001b[39m \u001b[39mself\u001b[39;49m\u001b[39m.\u001b[39;49mcolumns\u001b[39m.\u001b[39;49mget_loc(key)\n\u001b[0;32m   3762\u001b[0m \u001b[39mif\u001b[39;00m is_integer(indexer):\n\u001b[0;32m   3763\u001b[0m     indexer \u001b[39m=\u001b[39m [indexer]\n",
      "File \u001b[1;32mc:\\Users\\Ayushee\\AppData\\Local\\Programs\\Python\\Python311\\Lib\\site-packages\\pandas\\core\\indexes\\base.py:3655\u001b[0m, in \u001b[0;36mIndex.get_loc\u001b[1;34m(self, key)\u001b[0m\n\u001b[0;32m   3653\u001b[0m     \u001b[39mreturn\u001b[39;00m \u001b[39mself\u001b[39m\u001b[39m.\u001b[39m_engine\u001b[39m.\u001b[39mget_loc(casted_key)\n\u001b[0;32m   3654\u001b[0m \u001b[39mexcept\u001b[39;00m \u001b[39mKeyError\u001b[39;00m \u001b[39mas\u001b[39;00m err:\n\u001b[1;32m-> 3655\u001b[0m     \u001b[39mraise\u001b[39;00m \u001b[39mKeyError\u001b[39;00m(key) \u001b[39mfrom\u001b[39;00m \u001b[39merr\u001b[39;00m\n\u001b[0;32m   3656\u001b[0m \u001b[39mexcept\u001b[39;00m \u001b[39mTypeError\u001b[39;00m:\n\u001b[0;32m   3657\u001b[0m     \u001b[39m# If we have a listlike key, _check_indexing_error will raise\u001b[39;00m\n\u001b[0;32m   3658\u001b[0m     \u001b[39m#  InvalidIndexError. Otherwise we fall through and re-raise\u001b[39;00m\n\u001b[0;32m   3659\u001b[0m     \u001b[39m#  the TypeError.\u001b[39;00m\n\u001b[0;32m   3660\u001b[0m     \u001b[39mself\u001b[39m\u001b[39m.\u001b[39m_check_indexing_error(key)\n",
      "\u001b[1;31mKeyError\u001b[0m: 'Market Cap'"
     ]
    }
   ],
   "source": [
    "df_cleaned[df_cleaned[\"Market Cap\"] == df_cleaned[\"Market Cap\"].max()]"
   ]
  },
  {
   "cell_type": "code",
   "execution_count": 162,
   "metadata": {},
   "outputs": [
    {
     "data": {
      "text/html": [
       "<div>\n",
       "<style scoped>\n",
       "    .dataframe tbody tr th:only-of-type {\n",
       "        vertical-align: middle;\n",
       "    }\n",
       "\n",
       "    .dataframe tbody tr th {\n",
       "        vertical-align: top;\n",
       "    }\n",
       "\n",
       "    .dataframe thead th {\n",
       "        text-align: right;\n",
       "    }\n",
       "</style>\n",
       "<table border=\"1\" class=\"dataframe\">\n",
       "  <thead>\n",
       "    <tr style=\"text-align: right;\">\n",
       "      <th></th>\n",
       "      <th>Market Cap</th>\n",
       "      <th>Yld to Mty (Ask)</th>\n",
       "      <th>S&amp;P Outlook</th>\n",
       "      <th>LQA Bid-Ask Spread</th>\n",
       "    </tr>\n",
       "  </thead>\n",
       "  <tbody>\n",
       "    <tr>\n",
       "      <th>0</th>\n",
       "      <td>8.516736e+10</td>\n",
       "      <td>8.547007</td>\n",
       "      <td>-1</td>\n",
       "      <td>0.291867</td>\n",
       "    </tr>\n",
       "    <tr>\n",
       "      <th>1</th>\n",
       "      <td>8.516736e+10</td>\n",
       "      <td>8.530456</td>\n",
       "      <td>-1</td>\n",
       "      <td>0.298033</td>\n",
       "    </tr>\n",
       "    <tr>\n",
       "      <th>2</th>\n",
       "      <td>3.699918e+10</td>\n",
       "      <td>3.975343</td>\n",
       "      <td>0</td>\n",
       "      <td>0.053609</td>\n",
       "    </tr>\n",
       "    <tr>\n",
       "      <th>3</th>\n",
       "      <td>4.913502e+10</td>\n",
       "      <td>4.670643</td>\n",
       "      <td>0</td>\n",
       "      <td>0.018107</td>\n",
       "    </tr>\n",
       "    <tr>\n",
       "      <th>4</th>\n",
       "      <td>4.913502e+10</td>\n",
       "      <td>6.900918</td>\n",
       "      <td>0</td>\n",
       "      <td>0.079522</td>\n",
       "    </tr>\n",
       "    <tr>\n",
       "      <th>...</th>\n",
       "      <td>...</td>\n",
       "      <td>...</td>\n",
       "      <td>...</td>\n",
       "      <td>...</td>\n",
       "    </tr>\n",
       "    <tr>\n",
       "      <th>1141</th>\n",
       "      <td>1.822788e+11</td>\n",
       "      <td>5.432597</td>\n",
       "      <td>-1</td>\n",
       "      <td>0.219404</td>\n",
       "    </tr>\n",
       "    <tr>\n",
       "      <th>1142</th>\n",
       "      <td>2.350768e+10</td>\n",
       "      <td>3.840379</td>\n",
       "      <td>1</td>\n",
       "      <td>0.277910</td>\n",
       "    </tr>\n",
       "    <tr>\n",
       "      <th>1144</th>\n",
       "      <td>2.349952e+10</td>\n",
       "      <td>3.415394</td>\n",
       "      <td>1</td>\n",
       "      <td>0.183528</td>\n",
       "    </tr>\n",
       "    <tr>\n",
       "      <th>1147</th>\n",
       "      <td>3.699918e+10</td>\n",
       "      <td>0.528</td>\n",
       "      <td>0</td>\n",
       "      <td>0.169088</td>\n",
       "    </tr>\n",
       "    <tr>\n",
       "      <th>1150</th>\n",
       "      <td>7.644921e+08</td>\n",
       "      <td>4.308108</td>\n",
       "      <td>-1</td>\n",
       "      <td>0.292254</td>\n",
       "    </tr>\n",
       "  </tbody>\n",
       "</table>\n",
       "<p>863 rows × 4 columns</p>\n",
       "</div>"
      ],
      "text/plain": [
       "        Market Cap Yld to Mty (Ask)  S&P Outlook  LQA Bid-Ask Spread\n",
       "0     8.516736e+10         8.547007           -1            0.291867\n",
       "1     8.516736e+10         8.530456           -1            0.298033\n",
       "2     3.699918e+10         3.975343            0            0.053609\n",
       "3     4.913502e+10         4.670643            0            0.018107\n",
       "4     4.913502e+10         6.900918            0            0.079522\n",
       "...            ...              ...          ...                 ...\n",
       "1141  1.822788e+11         5.432597           -1            0.219404\n",
       "1142  2.350768e+10         3.840379            1            0.277910\n",
       "1144  2.349952e+10         3.415394            1            0.183528\n",
       "1147  3.699918e+10            0.528            0            0.169088\n",
       "1150  7.644921e+08         4.308108           -1            0.292254\n",
       "\n",
       "[863 rows x 4 columns]"
      ]
     },
     "execution_count": 162,
     "metadata": {},
     "output_type": "execute_result"
    }
   ],
   "source": [
    "df_cleaned = df_cleaned[df_cleaned[\"Market Cap\"] != df_cleaned[\"Market Cap\"].max()]\n",
    "df_cleaned"
   ]
  },
  {
   "cell_type": "code",
   "execution_count": 197,
   "metadata": {},
   "outputs": [
    {
     "data": {
      "image/png": "[encoded data removed]",
      "text/plain": [
       "<Figure size 1000x600 with 1 Axes>"
      ]
     },
     "metadata": {},
     "output_type": "display_data"
    }
   ],
   "source": [
    "plt.figure(figsize=(10, 6))\n",
    "df_cleaned.boxplot()\n",
    "plt.show()"
   ]
  },
  {
   "cell_type": "code",
   "execution_count": 164,
   "metadata": {},
   "outputs": [],
   "source": [
    "df_cleaned = df_cleaned[df_cleaned[\"LQA Bid-Ask Spread\"] != df_cleaned[\"LQA Bid-Ask Spread\"].max()]"
   ]
  },
  {
   "cell_type": "code",
   "execution_count": 183,
   "metadata": {},
   "outputs": [
    {
     "name": "stderr",
     "output_type": "stream",
     "text": [
      "c:\\Users\\Ayushee\\AppData\\Local\\Programs\\Python\\Python311\\Lib\\site-packages\\pandas\\core\\arraylike.py:396: RuntimeWarning: divide by zero encountered in log1p\n",
      "  result = getattr(ufunc, method)(*inputs, **kwargs)\n"
     ]
    }
   ],
   "source": [
    "import numpy as np\n",
    "\n",
    "df_log = df_cleaned.apply(lambda x: np.log1p(x) if np.issubdtype(x.dtype, np.number) else x)\n",
    "\n",
    "# df_cleaned[\"Market Cap\"] = np.log(df_cleaned[\"Market Cap\"])\n",
    "# df_cleaned[\"Market Cap\"] = np.log(df_cleaned[\"Market Cap\"])\n",
    "# df_cleaned = df_cleaned.drop(columns=[\"LQA Expected Daily Vol\"])\n",
    "# df_cleaned[\"LQA Expected Daily Vol\"] = np.log(df_cleaned[\"LQA Expected Daily Vol\"])"
   ]
  },
  {
   "cell_type": "code",
   "execution_count": 184,
   "metadata": {},
   "outputs": [
    {
     "data": {
      "image/png": "[encoded data removed]",
      "text/plain": [
       "<Figure size 1000x600 with 1 Axes>"
      ]
     },
     "metadata": {},
     "output_type": "display_data"
    }
   ],
   "source": [
    "plt.figure(figsize=(10, 6))\n",
    "df_cleaned.boxplot()\n",
    "plt.show()"
   ]
  },
  {
   "cell_type": "code",
   "execution_count": 199,
   "metadata": {},
   "outputs": [
    {
     "data": {
      "text/plain": [
       "array([[ 0.11099821, -1.62640187,  0.11848456],\n",
       "       [ 0.12689121, -1.62640187,  0.11179664],\n",
       "       [ 0.11099821, -1.62640187,  0.11708991],\n",
       "       ...,\n",
       "       [ 0.12176188, -1.62640187, -0.08747057],\n",
       "       [ 0.34204139,  0.27453331,  0.00358443],\n",
       "       [ 1.69390519,  0.27453331, -0.04098797]])"
      ]
     },
     "execution_count": 199,
     "metadata": {},
     "output_type": "execute_result"
    }
   ],
   "source": [
    "from sklearn.discriminant_analysis import StandardScaler\n",
    "scaler = StandardScaler()\n",
    "\n",
    "final_df = df_cleaned.loc[:, [\"LQA Bid-Ask Spread\", \"S&P Outlook\", \"Yld to Mty (Mid)\"]]\n",
    "X = scaler.fit_transform(final_df)\n",
    "X"
   ]
  },
  {
   "cell_type": "code",
   "execution_count": 200,
   "metadata": {},
   "outputs": [
    {
     "name": "stderr",
     "output_type": "stream",
     "text": [
      "c:\\Users\\Ayushee\\AppData\\Local\\Programs\\Python\\Python311\\Lib\\site-packages\\sklearn\\cluster\\_kmeans.py:1412: FutureWarning: The default value of `n_init` will change from 10 to 'auto' in 1.4. Set the value of `n_init` explicitly to suppress the warning\n",
      "  super()._check_params_vs_input(X, default_n_init=10)\n",
      "C:\\Users\\Ayushee\\AppData\\Local\\Temp\\ipykernel_25088\\2089035286.py:7: SettingWithCopyWarning: \n",
      "A value is trying to be set on a copy of a slice from a DataFrame.\n",
      "Try using .loc[row_indexer,col_indexer] = value instead\n",
      "\n",
      "See the caveats in the documentation: https://pandas.pydata.org/pandas-docs/stable/user_guide/indexing.html#returning-a-view-versus-a-copy\n",
      "  df_cleaned[\"Cluster\"] = kmeans.labels_\n"
     ]
    },
    {
     "data": {
      "image/png": "[encoded data removed]",
      "text/plain": [
       "<Figure size 640x480 with 1 Axes>"
      ]
     },
     "metadata": {},
     "output_type": "display_data"
    }
   ],
   "source": [
    "from sklearn.cluster import KMeans\n",
    "from sklearn.decomposition import PCA\n",
    "\n",
    "kmeans = KMeans(n_clusters=3)\n",
    "kmeans.fit(X)\n",
    "cluster_labels = kmeans.labels_\n",
    "df_cleaned[\"Cluster\"] = kmeans.labels_\n",
    "\n",
    "# Apply PCA on the data points (X)\n",
    "pca = PCA(n_components=2)\n",
    "X_pca = pca.fit_transform(X)\n",
    "\n",
    "# Visualize the k-means clusters in the PCA space\n",
    "plt.scatter(X_pca[:, 0], X_pca[:, 1], c=cluster_labels, cmap='viridis')\n",
    "plt.title(\"PCA of Data with K-means Clusters\")\n",
    "plt.xlabel(\"Principal Component 1\")\n",
    "plt.ylabel(\"Principal Component 2\")\n",
    "plt.show()"
   ]
  },
  {
   "cell_type": "code",
   "execution_count": 48,
   "metadata": {},
   "outputs": [
    {
     "data": {
      "text/plain": [
       "array([1, 1, 1, 1, 1, 1, 0, 1, 1, 1, 1, 0, 1, 1, 1, 1, 1, 1, 1, 1, 1, 1,\n",
       "       1, 1, 1, 1, 1, 1, 1, 1, 1, 0, 1, 1, 1, 1, 1, 1, 1, 0, 1, 1, 1, 1,\n",
       "       1, 1, 1, 1, 1, 1, 1, 1, 1, 1, 1, 0, 1, 1, 1, 1, 1, 1, 0, 1, 1, 1,\n",
       "       1, 1, 1, 1, 1, 1, 1, 1, 1, 1, 0, 1, 1, 1, 1, 1, 1, 1, 1, 0, 1, 1,\n",
       "       1, 0, 1, 1, 1, 1, 1, 1, 1, 1, 1, 1, 1, 1, 1, 1, 1, 0, 1, 1, 1, 0,\n",
       "       1, 0, 1, 1, 0, 1, 1, 1, 1, 1, 1, 1, 1, 0, 1, 1, 1, 1, 1, 1, 0, 1,\n",
       "       1, 1, 1, 1, 1, 1, 1, 1, 1, 0, 1, 1, 1, 1, 1, 0, 1, 1, 1, 1, 1, 1,\n",
       "       1, 0, 0, 1, 1, 1, 1, 1, 1, 1, 1, 1, 1, 0, 1, 1, 0, 1, 0, 1, 1, 1,\n",
       "       1, 0, 1, 0, 1, 1, 1, 0, 1, 1, 0, 1, 1, 1, 1, 1, 1, 1, 0, 1, 1, 1,\n",
       "       1, 0, 1, 1, 1, 1, 1, 1, 0, 1, 1, 1, 1, 1, 1, 1, 1, 1, 1, 1, 1, 1,\n",
       "       1, 1, 1, 1, 1, 1, 0, 0, 1, 1, 0, 1, 0, 1, 1, 1, 1, 1, 1, 1, 1, 1,\n",
       "       1, 1, 1, 1, 1, 1, 0, 0, 1, 1, 1, 1, 1, 1, 1, 0, 1, 1, 1, 1, 1, 1,\n",
       "       1, 1, 1, 1, 1, 1, 1, 1, 1, 1, 1, 1, 0, 1, 1, 1, 1, 1, 1, 1, 1, 1,\n",
       "       1, 1, 1, 0, 1, 1, 1, 1, 0, 1, 1, 1, 1, 1, 0, 1, 1, 1, 1, 1, 1, 1,\n",
       "       1, 1, 1, 0, 1, 1, 1, 0, 1, 1, 1, 0, 1, 1, 1, 1, 1, 1, 1, 1, 1, 1,\n",
       "       1, 1, 1, 0, 1, 0, 1, 1, 1, 1, 1, 1, 1, 1, 1, 0, 0, 1, 1, 1, 1, 1,\n",
       "       1, 1, 1, 1, 1, 0, 0, 0, 1, 1, 1, 1, 1, 1, 1, 1, 1, 0, 1, 1, 1, 1,\n",
       "       0, 1, 1, 1, 1, 0, 1, 1, 1, 1, 1, 1, 1, 1, 1, 1, 1, 1, 1, 1, 1, 1,\n",
       "       1, 1, 1, 1, 1, 1, 1, 1, 1, 1, 1, 1, 1, 1, 1, 1, 1, 1, 1, 1, 1, 1,\n",
       "       0, 1, 1, 1, 1, 1, 1, 1, 0, 1, 1, 1, 1, 1, 1, 1, 1, 1, 1, 1, 1, 1,\n",
       "       1, 1, 1, 1, 1, 1, 1, 1, 1, 1, 1, 1, 1, 1, 1, 1, 1, 1, 1, 1, 1, 1,\n",
       "       1, 1, 1, 0, 1, 1, 1, 1, 1, 1, 1, 1, 1, 1, 1, 1, 1, 1, 1, 1, 1, 1,\n",
       "       1, 1, 1, 1, 1, 1, 1, 1, 1, 1, 1, 1, 1, 1, 1, 1, 0, 1, 1, 1, 1, 1,\n",
       "       0, 1, 1, 0, 1, 1, 0, 1, 1, 1, 0, 1, 1, 0, 1, 1, 1, 1, 1, 1, 1, 1,\n",
       "       1, 1, 1, 1, 1, 1, 1, 1, 1, 1, 1, 1, 1, 1, 1, 1, 1, 1, 1, 1, 1, 1,\n",
       "       1, 1, 1, 1, 1, 1, 1, 1, 1, 1, 1, 1, 1, 1, 1, 1, 1, 1, 1, 1, 1, 0,\n",
       "       1, 1, 1, 1, 1, 1, 1, 1, 1, 1, 1, 0, 1, 1, 1, 1, 0, 1, 1, 1, 1, 1,\n",
       "       1, 1, 1, 1, 1, 1, 1, 1, 1, 1, 1, 1, 1, 1, 1, 1, 1, 1, 1, 1, 0, 1,\n",
       "       1, 1, 1, 1, 1, 1, 1, 1, 1, 1, 1, 1, 1, 1, 1, 1, 1, 1, 1, 1, 1, 1,\n",
       "       1, 1, 1, 1, 1, 1, 1, 1, 1, 1, 1, 1, 1, 1, 1, 1, 1, 1, 1, 1, 1, 1,\n",
       "       1, 1, 1, 1, 1, 1, 1, 1, 1, 1, 1, 1, 1, 1, 1, 1, 1, 1, 1, 1, 1, 1,\n",
       "       1, 1, 1, 1, 1, 1, 1, 1, 1, 1, 1, 1, 1, 1, 1, 1, 1, 1, 1, 1, 1, 1,\n",
       "       1, 1, 1, 1, 1, 1, 1, 1, 1, 1, 1, 1, 1, 1, 1, 1, 1, 1, 1, 1, 1, 1,\n",
       "       1, 1, 1, 1, 1, 1, 1, 1, 1, 1, 1, 1, 1, 1, 0, 1, 1, 1, 1, 1, 1, 1,\n",
       "       1, 1, 1, 1, 1, 1, 1, 1, 1, 1, 1, 1, 1, 1, 1, 1, 1, 1, 1, 1, 1, 1,\n",
       "       1, 1, 1, 1, 1, 1, 1, 1, 1, 1, 1, 1, 1, 1, 1, 1, 1, 1, 1, 1, 1, 1,\n",
       "       1, 1, 1, 1, 1, 1, 1, 1, 1, 1, 1, 1, 1, 1, 1, 1, 1, 1, 1, 1, 1, 1,\n",
       "       1, 1, 1, 1, 1, 1, 1, 1, 1, 1, 1, 1, 1, 1, 1, 1, 1, 1, 1, 1, 1, 1,\n",
       "       1, 1, 1, 1, 1, 2, 1, 1, 1, 1, 1, 1, 1, 1, 1, 1, 1, 1, 1, 1, 1, 1,\n",
       "       1, 1, 1, 1, 1, 1])"
      ]
     },
     "execution_count": 48,
     "metadata": {},
     "output_type": "execute_result"
    }
   ],
   "source": [
    "cluster_labels"
   ]
  },
  {
   "cell_type": "code",
   "execution_count": 201,
   "metadata": {},
   "outputs": [
    {
     "data": {
      "text/plain": [
       "<Axes: xlabel='S&P Outlook', ylabel='LQA Bid-Ask Spread'>"
      ]
     },
     "execution_count": 201,
     "metadata": {},
     "output_type": "execute_result"
    },
    {
     "data": {
      "image/png": "[encoded data removed]",
      "text/plain": [
       "<Figure size 1200x500 with 1 Axes>"
      ]
     },
     "metadata": {},
     "output_type": "display_data"
    }
   ],
   "source": [
    "plt.figure(figsize=(12, 5))\n",
    "plt.subplot(1,2,1)\n",
    "sns.scatterplot(x='S&P Outlook', y='LQA Bid-Ask Spread', hue='Cluster', data=df_cleaned, palette='viridis', s=100, legend='full')"
   ]
  }
 ],
 "metadata": {
  "kernelspec": {
   "display_name": "Python 3",
   "language": "python",
   "name": "python3"
  },
  "language_info": {
   "codemirror_mode": {
    "name": "ipython",
    "version": 3
   },
   "file_extension": ".py",
   "mimetype": "text/x-python",
   "name": "python",
   "nbconvert_exporter": "python",
   "pygments_lexer": "ipython3",
   "version": "3.11.4"
  }
 },
 "nbformat": 4,
 "nbformat_minor": 2
}
